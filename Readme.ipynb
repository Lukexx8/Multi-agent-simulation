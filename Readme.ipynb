{
 "cells": [
  {
   "cell_type": "markdown",
   "metadata": {},
   "source": [
    "### Symulacja wieloagentowa umieralności oraz czasu trwania epidemii\n",
    "\n",
    "Symulacja przedstawia rozprzestrzeniania się epidemii choroby wśród społeczeństwa reprezentowanego siecią społeczną małego świata. Każdy wierzchołek reprezentuje odrębną osobę (agenta) a wagi połączeń pomiędzy wierzchołkami reprezentują częstość kontaktu z daną osobą (prawdopodobieństwo kontaktu w jednym kroku iteracji). Symulacja ma na celu analizę liczby umieralności wśród społeczeństwa oraz czas trwania epidemii w zależności od parametrów:\n",
    "* Liczba początkowa ludności (agentów)\n",
    "* Stopień połączeń lokalny w sieci (parametr k w funkcji tworzącej graf małego swiata)\n",
    "* Procent połączeń dalekich (parametr p The probability of rewiring each edge)\n",
    "* Procent początkowo zarażonych agentów\n",
    "* Prawdopodobieństwo kontaktu pomiędzy agentami w jednym kroku iteracji\n",
    "* Początkowy poziom odporność (na zarażenie i śmierć)\n",
    "\n",
    "Podstawowe założenia:\n",
    "* Agent zarażony w każdym kroku iteracji może wyzdrowieć, umrzeć, dalej być chory\n",
    "* Agent który jest chory zaraża\n",
    "* Agent martwy nie zaraża\n",
    "* Agent chory w każdym kroku iteracji może umrzeć z pewnym prawdopodobieństwem. Prawdopodobienstwo śmierci jest produktem zmiennej losowej z rozkładu wykładniczego o parametrze scale = 0.1 oraz indywidualnej odporności agenta\n",
    "* Prawdopodobieństwo_zgonu = random.exponential(scale=0.1) * (1 – odporność)\n",
    "* Jeżeli agent nie umrze w danym kroku iteracji może wyzdrowieć. Prawdopodobienstwo wyzdrowienia charakteryzują podobne zaleznosci:\n",
    "Prawdopodobieństwo_wyzdrowienia = random.exponential(scale=0.1) \\* odporność\n",
    "* Jeżeli agent był zarażony a nie umarł ani nie wyzdrowiał w danym kroku iteracji to zaraża z  pewnym prawdopodobieństwem każdego ze swoich sąsiadów (wierzchołki z ktorym istnieje polaczenie). Prawdopodobieństwo zarażenia sąsiada X zależy od dwóch czynników: prawdopodobieństwa kontaktu oraz indywidualnej odporności na chorobę. (Prawd. kontaktu jest reprezentowane w krawędziach miedzy wierzchołkami)\n",
    "Prawdopodobieństwo_zarazenia = prawdopodobieństwo_kontaktu[u][v] * (1 - odporność[v]).\n",
    "W tym przypadku u jest wierzchołkiem zainfekowanym i probuje zainfekować wierzchołek v.\n",
    "* Odporność agenta na chorobę który był zainfekowany a wyzdrowiał rośnie o 30%\n",
    "* Jeden krok iteracji może reprezentować jeden dzień/ tydzień what ever.\n",
    "\n"
   ]
  },
  {
   "cell_type": "code",
   "execution_count": null,
   "metadata": {
    "collapsed": true
   },
   "outputs": [],
   "source": []
  }
 ],
 "metadata": {
  "kernelspec": {
   "display_name": "Python 3",
   "language": "python",
   "name": "python3"
  },
  "language_info": {
   "codemirror_mode": {
    "name": "ipython",
    "version": 3
   },
   "file_extension": ".py",
   "mimetype": "text/x-python",
   "name": "python",
   "nbconvert_exporter": "python",
   "pygments_lexer": "ipython3",
   "version": "3.6.1"
  }
 },
 "nbformat": 4,
 "nbformat_minor": 2
}
